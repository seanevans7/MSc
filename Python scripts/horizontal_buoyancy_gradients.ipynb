{
 "cells": [
  {
   "cell_type": "code",
   "execution_count": 1,
   "metadata": {},
   "outputs": [
    {
     "name": "stdout",
     "output_type": "stream",
     "text": [
      "Populating the interactive namespace from numpy and matplotlib\n"
     ]
    },
    {
     "name": "stderr",
     "output_type": "stream",
     "text": [
      "C:\\Users\\Sean Evans\\Anaconda3\\lib\\site-packages\\IPython\\core\\magics\\pylab.py:160: UserWarning: pylab import has clobbered these variables: ['pylab']\n",
      "`%matplotlib` prevents importing * from pylab and numpy\n",
      "  \"\\n`%matplotlib` prevents importing * from pylab and numpy\"\n"
     ]
    }
   ],
   "source": [
    "#% shift enter to run section\n",
    "import pandas as pd\n",
    "from tqdm._tqdm_notebook import tqdm_notebook\n",
    "import numpy as np\n",
    "import numpy.ma as ma\n",
    "from numpy import *\n",
    "import matplotlib.pyplot as plt\n",
    "from mpl_toolkits.basemap import Basemap\n",
    "plt.style.use('ggplot')\n",
    "import xarray as xr\n",
    "from glob import glob\n",
    "import netCDF4\n",
    "from netCDF4 import Dataset\n",
    "import matplotlib.mlab as mlab\n",
    "import pylab\n",
    "import pyreadr\n",
    "import seaborn as sns\n",
    "import tqdm\n",
    "import tzlocal\n",
    "import sys\n",
    "import os\n",
    "import scipy.interpolate as sc\n",
    "from scipy import signal\n",
    "my_timezone = tzlocal.get_localzone().zone\n",
    "# pylab for more MATLAB like environment and inline displays plots below cells\n",
    "%pylab inline\n",
    "\n",
    "# if gsw Warning shows, manually install gsw if possible - will still work without\n",
    "import glidertools as gt\n",
    "from cmocean import cm as cmo  # we use this for colormaps\n",
    "#del()\n",
    "import geostatspy.GSLIB as GSLIB \n",
    "import geostatspy.geostats as geostats \n",
    "import scipy.stats   \n",
    "from skgstat import Variogram\n",
    "import pykrige\n",
    "\n",
    "import rpy2.robjects as robjects\n",
    "from rpy2.robjects import pandas2ri"
   ]
  },
  {
   "cell_type": "code",
   "execution_count": 6,
   "metadata": {},
   "outputs": [
    {
     "name": "stderr",
     "output_type": "stream",
     "text": [
      "C:\\Users\\Sean Evans\\Anaconda3\\lib\\site-packages\\rpy2-2.9.4-py3.6-win-amd64.egg\\rpy2\\robjects\\pandas2ri.py:191: FutureWarning:\n",
      "\n",
      "from_items is deprecated. Please use DataFrame.from_dict(dict(items), ...) instead. DataFrame.from_dict(OrderedDict(items)) may be used to preserve the key order.\n",
      "\n"
     ]
    }
   ],
   "source": [
    "#%% working with single seal first\n",
    "# 16(1,1),67(1,5),83(10,10),31(1,2),115(1,10)\n",
    "\n",
    "number = 15\n",
    "\n",
    "import rpy2.robjects as robjects\n",
    "from rpy2.robjects import pandas2ri\n",
    "pandas2ri.activate()\n",
    "readRDS = robjects.r['readRDS']\n",
    "\n",
    "filtered_divestats = readRDS('C:/Users/Sean Evans/Documents/2020/MSc/Computing/MSc/Plots & Dive Tables/Seal'+str(number)+'/'+str(number)+'_filtered_divestats.rds')\n",
    "\n",
    "filtered_divestats = pandas2ri.ri2py(filtered_divestats)\n"
   ]
  },
  {
   "cell_type": "code",
   "execution_count": 8,
   "metadata": {},
   "outputs": [
    {
     "data": {
      "text/plain": [
       "0   2011-01-05 03:07:00+00:00\n",
       "1   2011-01-05 03:30:00+00:00\n",
       "2   2011-01-05 03:37:00+00:00\n",
       "3   2011-01-05 03:42:00+00:00\n",
       "4   2011-01-05 03:45:00+00:00\n",
       "5   2011-01-05 03:47:00+00:00\n",
       "6   2011-01-05 03:49:00+00:00\n",
       "7   2011-01-05 03:52:00+00:00\n",
       "8   2011-01-05 04:05:00+00:00\n",
       "9   2011-01-05 04:10:00+00:00\n",
       "Name: start, dtype: datetime64[ns, GMT]"
      ]
     },
     "execution_count": 8,
     "metadata": {},
     "output_type": "execute_result"
    }
   ],
   "source": [
    "filtered_divestats.start.iloc[0:10]"
   ]
  },
  {
   "cell_type": "code",
   "execution_count": null,
   "metadata": {},
   "outputs": [],
   "source": []
  }
 ],
 "metadata": {
  "kernelspec": {
   "display_name": "'Python Interactive'",
   "language": "python",
   "name": "00597d94-5ce2-402c-a817-1411516b07cc"
  },
  "language_info": {
   "codemirror_mode": {
    "name": "ipython",
    "version": 3
   },
   "file_extension": ".py",
   "mimetype": "text/x-python",
   "name": "python",
   "nbconvert_exporter": "python",
   "pygments_lexer": "ipython3",
   "version": "3.6.5"
  }
 },
 "nbformat": 4,
 "nbformat_minor": 2
}
