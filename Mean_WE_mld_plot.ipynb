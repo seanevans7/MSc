{
 "cells": [
  {
   "cell_type": "code",
   "execution_count": 1,
   "metadata": {},
   "outputs": [],
   "source": [
    "#% shift enter to run section\n",
    "#% Place cursors where the split is desired, and then press and release ctrl + shift + -\n",
    "#% Multiple cursors may be placed, by holding ctrl, and clicking the location for the cursor\n",
    "#% Select the desired, consecutive cells, by holding shift, and clicking in the margin, where the [ ] is, which will highlight the selected cells.\n",
    "#% While still holding shift, press m, and then release both keys.\n",
    "import pandas as pd\n",
    "from tqdm._tqdm_notebook import tqdm_notebook\n",
    "import numpy as np\n",
    "import numpy.ma as ma\n",
    "from numpy import *\n",
    "import matplotlib.pyplot as plt\n",
    "from mpl_toolkits.basemap import Basemap\n",
    "plt.style.use('ggplot')\n",
    "import xarray as xr\n",
    "from glob import glob\n",
    "import netCDF4\n",
    "from netCDF4 import Dataset\n",
    "import matplotlib.mlab as mlab\n",
    "import pylab\n",
    "import pyreadr\n",
    "import seaborn as sns\n",
    "import tqdm\n",
    "import tzlocal\n",
    "import sys\n",
    "import os\n",
    "import scipy.interpolate as sc\n",
    "from scipy import signal\n",
    "my_timezone = tzlocal.get_localzone().zone\n",
    "# pylab for more MATLAB like environment and inline displays plots below cells\n",
    "%pylab inline\n",
    "\n",
    "# if gsw Warning shows, manually install gsw if possible - will still work without\n",
    "import glidertools as gt\n",
    "from cmocean import cm as cmo  # we use this for colormaps\n",
    "#del()\n",
    "import geostatspy.GSLIB as GSLIB \n",
    "import geostatspy.geostats as geostats \n",
    "import scipy.stats   \n",
    "from skgstat import Variogram\n",
    "import pykrige\n",
    "\n",
    "import rpy2.robjects as robjects\n",
    "from rpy2.robjects import pandas2ri\n",
    "\n",
    "from sklearn.linear_model import LinearRegression\n",
    "import rpy2.robjects as robjects\n",
    "from rpy2.robjects import pandas2ri\n",
    "pandas2ri.activate()\n",
    "readRDS = robjects.r['readRDS']"
   ]
  },
  {
   "cell_type": "markdown",
   "metadata": {},
   "source": [
    "## Selecting seals for data analysis"
   ]
  },
  {
   "cell_type": "code",
   "execution_count": 2,
   "metadata": {},
   "outputs": [],
   "source": [
    "SealIDS = np.array([1,2,4,5,13,14,15,16,17,18,19,20,21,22,23,24,25,31,47,49,50,51,52,53,57,58,62,63,64,65,66,67,68,69,70,109,110,112,113]).astype(int)\n",
    "summer = [13,14,15,16,20,21,22,23,52,53,57,58,63,64,65,66,67,110,112,113]\n",
    "West_summer = [21,22,52,53,57,58,63,64,65,66,67,113]\n",
    "East_summer = [13,14,15,16,20,21,22,23,58,63,110,112]\n",
    "West_mostly_summer = [52,53,57,58,63,64,65,66,67,113]\n",
    "East_mostly__summer = [13,14,15,16,20,21,22,23,110,112]\n",
    "winter = [1,2,4,5,17,18,19,24,25,31,47,49,50,51,62,68,69,70,109]\n",
    "#West_winter = [1,2,5,17,18,19,24,25,31,109]\n",
    "#East_winter = [4,5,25,31,50 #19 - many dives on east as well, "
   ]
  },
  {
   "cell_type": "code",
   "execution_count": 24,
   "metadata": {},
   "outputs": [
    {
     "name": "stderr",
     "output_type": "stream",
     "text": [
      "C:\\Users\\Sean Evans\\Anaconda3\\lib\\site-packages\\rpy2-2.9.4-py3.6-win-amd64.egg\\rpy2\\robjects\\pandas2ri.py:191: FutureWarning:\n",
      "\n",
      "from_items is deprecated. Please use DataFrame.from_dict(dict(items), ...) instead. DataFrame.from_dict(OrderedDict(items)) may be used to preserve the key order.\n",
      "\n"
     ]
    }
   ],
   "source": [
    "dives_pdsi=readRDS('C:/Users/Sean Evans/Documents/2020/MSc/Computing/MSc/Plots & Dive Tables/dives_pdsi.rds')\n",
    "dives_pdsi = pandas2ri.ri2py(dives_pdsi)\n",
    "\n",
    "number = SealIDS[0]"
   ]
  },
  {
   "cell_type": "markdown",
   "metadata": {},
   "source": [
    "#### Rough code for working wih netcdf files"
   ]
  },
  {
   "cell_type": "code",
   "execution_count": 178,
   "metadata": {},
   "outputs": [
    {
     "data": {
      "application/vnd.jupyter.widget-view+json": {
       "model_id": "f0604b2d822a4bbd9f48e9b20dd33dea",
       "version_major": 2,
       "version_minor": 0
      },
      "text/plain": [
       "HBox(children=(IntProgress(value=0, max=39), HTML(value='')))"
      ]
     },
     "metadata": {},
     "output_type": "display_data"
    },
    {
     "name": "stdout",
     "output_type": "stream",
     "text": [
      "1\n",
      "2\n",
      "4\n",
      "5\n",
      "13\n",
      "14\n",
      "15\n",
      "16\n",
      "17\n",
      "18\n",
      "19\n",
      "20\n",
      "21\n",
      "22\n",
      "23\n",
      "24\n",
      "25\n",
      "31\n",
      "47\n",
      "49\n",
      "50\n",
      "51\n",
      "52\n",
      "53\n",
      "57\n",
      "58\n",
      "62\n",
      "63\n",
      "64\n",
      "65\n",
      "66\n",
      "67\n",
      "68\n",
      "69\n",
      "70\n",
      "109\n",
      "110\n",
      "112\n",
      "113\n",
      "\n"
     ]
    }
   ],
   "source": [
    "# Rough code\n",
    "for f in tqdm_notebook(list(range(len(SealIDS)))):\n",
    "    number = SealIDS[f]\n",
    "    print(number)\n",
    "    #if sealID in winter\n",
    "    if number in summer:\n",
    "        if f==0:\n",
    "            flr_gridded_xds = xr.open_dataarray('C:/Users/Sean Evans/Documents/2020/MSc/Computing/MSc/Gridded_Temp_TimeSeries/'+str(number)+'_flr_gridded_xds.nc')\n",
    "            #flr_gridded_xds = flr_gridded_xds.expand_dims('sealID',2)\n",
    "        #if f==1:\n",
    "            #flr_gridded_xds1 = xr.open_dataarray('C:/Users/Sean Evans/Documents/2020/MSc/Computing/MSc/Gridded_Temp_TimeSeries/'+str(number)+'_flr_gridded_xds.nc')\n",
    "            #flr_gridded_xds = flr_gridded_xds.combine_first(flr_gridded_xds1)\n",
    "            #flr_gridded_xds = np.concatenate(xr.broadcast(flr_gridded_xds,flr_gridded_xds1),axis=1)\n",
    "            #flr_gridded_xds1 = flr_gridded_xds1.expand_dims('sealID',2)\n",
    "            #flr_gridded_xds1 = flr_gridded_xds1[:,np.newaxis()]\n",
    "            #flr_gridded_xds = xr.DataArray(flr_gridded_xds)\n",
    "            #flr_gridded_xds = np.concatenate(xr.broadcast(flr_gridded_xds,flr_gridded_xds1),axis=2)\n",
    "            #flr_gridded_xds = flr_gridded_xds.combine_first(flr_gridded_xds1)\n",
    "\n",
    "        else:\n",
    "            flr_gridded_xds1 = xr.open_dataarray('C:/Users/Sean Evans/Documents/2020/MSc/Computing/MSc/Gridded_Temp_TimeSeries/'+str(number)+'_flr_gridded_xds.nc')\n",
    "            #flr_gridded_xds = flr_gridded_xds.combine_first(flr_gridded_xds1)\n",
    "            #flr_gridded_xds = np.concatenate(xr.broadcast(flr_gridded_xds,flr_gridded_xds1),axis=1)\n",
    "            #flr_gridded_xds1 = flr_gridded_xds1.expand_dims('sealID',2)\n",
    "            #flr_gridded_xds = xr.DataArray(flr_gridded_xds)\n",
    "            #flr_gridded_xds = np.concatenate((flr_gridded_xds,flr_gridded_xds1),axis=2)\n",
    "            #flr_gridded_xds = flr_gridded_xds.combine_first(flr_gridded_xds1)\n",
    "            flr_gridded_xds = np.hstack((flr_gridded_xds,flr_gridded_xds1))\n",
    "            \n",
    "\n",
    "    "
   ]
  },
  {
   "cell_type": "markdown",
   "metadata": {},
   "source": [
    "#### West dives "
   ]
  },
  {
   "cell_type": "code",
   "execution_count": 3,
   "metadata": {},
   "outputs": [
    {
     "data": {
      "application/vnd.jupyter.widget-view+json": {
       "model_id": "aed664862871429f8910e79d302c54e9",
       "version_major": 2,
       "version_minor": 0
      },
      "text/plain": [
       "HBox(children=(IntProgress(value=0, max=39), HTML(value='')))"
      ]
     },
     "metadata": {},
     "output_type": "display_data"
    },
    {
     "name": "stdout",
     "output_type": "stream",
     "text": [
      "1\n",
      "2\n",
      "4\n",
      "5\n",
      "13\n",
      "14\n",
      "15\n",
      "16\n",
      "17\n",
      "18\n",
      "19\n",
      "20\n",
      "21\n",
      "22\n",
      "23\n",
      "24\n",
      "25\n",
      "31\n",
      "47\n",
      "49\n",
      "50\n",
      "51\n",
      "52\n"
     ]
    },
    {
     "name": "stderr",
     "output_type": "stream",
     "text": [
      "C:\\Users\\Sean Evans\\Anaconda3\\lib\\site-packages\\rpy2-2.9.4-py3.6-win-amd64.egg\\rpy2\\robjects\\pandas2ri.py:191: FutureWarning:\n",
      "\n",
      "from_items is deprecated. Please use DataFrame.from_dict(dict(items), ...) instead. DataFrame.from_dict(OrderedDict(items)) may be used to preserve the key order.\n",
      "\n"
     ]
    },
    {
     "name": "stdout",
     "output_type": "stream",
     "text": [
      "53\n",
      "57\n",
      "58\n",
      "62\n",
      "63\n",
      "64\n",
      "65\n",
      "66\n",
      "67\n",
      "68\n",
      "69\n",
      "70\n",
      "109\n",
      "110\n",
      "112\n",
      "113\n",
      "\n"
     ]
    }
   ],
   "source": [
    "# Divesummary\n",
    "### West seals ### Should I use west dives rather using sealID and divenumber\n",
    "# Each seal is read in and appended\n",
    "for f in tqdm_notebook(list(range(len(SealIDS)))):\n",
    "    number = SealIDS[f]\n",
    "    print(number)\n",
    "    #if sealID in winter\n",
    "    if number in West_summer:\n",
    "        if number==West_summer[0]:\n",
    "            flr_gridded_xds = xr.open_dataarray('C:/Users/Sean Evans/Documents/2020/MSc/Computing/MSc/Gridded_Temp_TimeSeries/'+str(number)+'_flr_gridded_xds.nc')\n",
    "            divessummary=pd.read_csv('C:/Users/Sean Evans/Documents/2020/MSc/Computing/MSc/Plots & Dive Tables/Seal'+str(number)+'/divessummary.csv')\n",
    "\n",
    "            bsm_seg_df = readRDS('C:/Users/Sean Evans/Documents/2020/MSc/Computing/MSc/bsm_seg_df/'+str(number)+'_bsm_seg_df.rds')\n",
    "            bsm_seg_df = pandas2ri.ri2py(bsm_seg_df)\n",
    "    \n",
    "            flr_gridded_xds = flr_gridded_xds.rename({'Time': 'num'})\n",
    "            flr_gridded_xds.coords['num'] = bsm_seg_df.num.unique()\n",
    "            flr_gridded_xds=flr_gridded_xds.sel(num=divessummary.num.values)\n",
    "            sid = repeat(number,len(flr_gridded_xds.num))\n",
    "            flr_gridded_xdsw = flr_gridded_xds.assign_coords(sealID=('num',sid))\n",
    "            \n",
    "        else:\n",
    "            flr_gridded_xds1 = xr.open_dataarray('C:/Users/Sean Evans/Documents/2020/MSc/Computing/MSc/Gridded_Temp_TimeSeries/'+str(number)+'_flr_gridded_xds.nc')\n",
    "            divessummary=pd.read_csv('C:/Users/Sean Evans/Documents/2020/MSc/Computing/MSc/Plots & Dive Tables/Seal'+str(number)+'/divessummary.csv')\n",
    "            bsm_seg_df = readRDS('C:/Users/Sean Evans/Documents/2020/MSc/Computing/MSc/bsm_seg_df/'+str(number)+'_bsm_seg_df.rds')\n",
    "            bsm_seg_df = pandas2ri.ri2py(bsm_seg_df)\n",
    "    \n",
    "            flr_gridded_xds1 = flr_gridded_xds1.rename({'Time': 'num'})\n",
    "            flr_gridded_xds1.coords['num'] = bsm_seg_df.num.unique()\n",
    "            flr_gridded_xds1=flr_gridded_xds1.sel(num=divessummary.num.values)\n",
    "            sid = repeat(number,len(flr_gridded_xds1.num))\n",
    "            flr_gridded_xds1 = flr_gridded_xds1.assign_coords(sealID=('num',sid))\n",
    "            \n",
    "            flr_gridded_xdsw = xr.concat((flr_gridded_xdsw,flr_gridded_xds1),dim='num')"
   ]
  },
  {
   "cell_type": "code",
   "execution_count": 3,
   "metadata": {},
   "outputs": [
    {
     "name": "stderr",
     "output_type": "stream",
     "text": [
      "C:\\Users\\Sean Evans\\Anaconda3\\lib\\site-packages\\rpy2-2.9.4-py3.6-win-amd64.egg\\rpy2\\robjects\\pandas2ri.py:191: FutureWarning:\n",
      "\n",
      "from_items is deprecated. Please use DataFrame.from_dict(dict(items), ...) instead. DataFrame.from_dict(OrderedDict(items)) may be used to preserve the key order.\n",
      "\n"
     ]
    },
    {
     "data": {
      "application/vnd.jupyter.widget-view+json": {
       "model_id": "5c4714a433fd4501b0796bde8a25781f",
       "version_major": 2,
       "version_minor": 0
      },
      "text/plain": [
       "HBox(children=(IntProgress(value=0, max=39), HTML(value='')))"
      ]
     },
     "metadata": {},
     "output_type": "display_data"
    },
    {
     "name": "stdout",
     "output_type": "stream",
     "text": [
      "1\n",
      "2\n",
      "4\n",
      "5\n",
      "13\n",
      "14\n",
      "15\n",
      "16\n",
      "17\n",
      "18\n",
      "19\n",
      "20\n",
      "21\n",
      "22\n",
      "23\n",
      "24\n",
      "25\n",
      "31\n",
      "47\n",
      "49\n",
      "50\n",
      "51\n",
      "52\n",
      "53\n",
      "57\n",
      "58\n",
      "62\n",
      "63\n",
      "64\n",
      "65\n",
      "66\n",
      "67\n",
      "68\n",
      "69\n",
      "70\n",
      "109\n",
      "110\n",
      "112\n",
      "113\n",
      "\n"
     ]
    }
   ],
   "source": [
    "# dives_pdsi removed dives\n",
    "### West seals ### Should I use west dives rather using sealID and divenumber\n",
    "# Each seal is read in and appended\n",
    "dives_pdsi=readRDS('C:/Users/Sean Evans/Documents/2020/MSc/Computing/MSc/Plots & Dive Tables/dives_pdsi.rds')\n",
    "dives_pdsi = pandas2ri.ri2py(dives_pdsi)\n",
    "for f in tqdm_notebook(list(range(len(SealIDS)))):\n",
    "    number = SealIDS[f]\n",
    "    print(number)\n",
    "    #if sealID in winter\n",
    "    if number in West_summer:\n",
    "        if number==West_summer[0]:\n",
    "            flr_gridded_xds = xr.open_dataarray('C:/Users/Sean Evans/Documents/2020/MSc/Computing/MSc/Gridded_Temp_TimeSeries/'+str(number)+'_flr_gridded_xds.nc')\n",
    "            dives_ = dives_pdsi[dives_pdsi.sealID==str(number)]\n",
    "            bsm_seg_df = readRDS('C:/Users/Sean Evans/Documents/2020/MSc/Computing/MSc/bsm_seg_df/'+str(number)+'_bsm_seg_df.rds')\n",
    "            bsm_seg_df = pandas2ri.ri2py(bsm_seg_df)\n",
    "    \n",
    "            flr_gridded_xds = flr_gridded_xds.rename({'Time': 'num'})\n",
    "            flr_gridded_xds.coords['num'] = bsm_seg_df.num.unique()\n",
    "            flr_gridded_xds=flr_gridded_xds.sel(num=dives_.num.values)\n",
    "            sid = repeat(number,len(flr_gridded_xds.num))\n",
    "            flr_gridded_xdsw = flr_gridded_xds.assign_coords(sealID=('num',sid))\n",
    "            \n",
    "        else:\n",
    "            flr_gridded_xds1 = xr.open_dataarray('C:/Users/Sean Evans/Documents/2020/MSc/Computing/MSc/Gridded_Temp_TimeSeries/'+str(number)+'_flr_gridded_xds.nc')\n",
    "            dives_ = dives_pdsi[dives_pdsi.sealID==str(number)]\n",
    "            bsm_seg_df = readRDS('C:/Users/Sean Evans/Documents/2020/MSc/Computing/MSc/bsm_seg_df/'+str(number)+'_bsm_seg_df.rds')\n",
    "            bsm_seg_df = pandas2ri.ri2py(bsm_seg_df)\n",
    "    \n",
    "            flr_gridded_xds1 = flr_gridded_xds1.rename({'Time': 'num'})\n",
    "            flr_gridded_xds1.coords['num'] = bsm_seg_df.num.unique()\n",
    "            flr_gridded_xds1=flr_gridded_xds1.sel(num=dives_.num.values)\n",
    "            sid = repeat(number,len(flr_gridded_xds1.num))\n",
    "            flr_gridded_xds1 = flr_gridded_xds1.assign_coords(sealID=('num',sid))\n",
    "            \n",
    "            flr_gridded_xdsw = xr.concat((flr_gridded_xdsw,flr_gridded_xds1),dim='num')"
   ]
  },
  {
   "cell_type": "code",
   "execution_count": 117,
   "metadata": {},
   "outputs": [
    {
     "name": "stderr",
     "output_type": "stream",
     "text": [
      "C:\\Users\\Sean Evans\\Anaconda3\\lib\\site-packages\\rpy2-2.9.4-py3.6-win-amd64.egg\\rpy2\\robjects\\pandas2ri.py:191: FutureWarning:\n",
      "\n",
      "from_items is deprecated. Please use DataFrame.from_dict(dict(items), ...) instead. DataFrame.from_dict(OrderedDict(items)) may be used to preserve the key order.\n",
      "\n"
     ]
    },
    {
     "data": {
      "application/vnd.jupyter.widget-view+json": {
       "model_id": "58c29761ca52445195866d841b8d423d",
       "version_major": 2,
       "version_minor": 0
      },
      "text/plain": [
       "HBox(children=(IntProgress(value=0, max=39), HTML(value='')))"
      ]
     },
     "metadata": {},
     "output_type": "display_data"
    },
    {
     "name": "stdout",
     "output_type": "stream",
     "text": [
      "1\n",
      "2\n",
      "4\n",
      "5\n",
      "13\n",
      "14\n",
      "15\n",
      "16\n",
      "17\n",
      "18\n",
      "19\n",
      "20\n",
      "21\n",
      "22\n",
      "23\n",
      "24\n",
      "25\n",
      "31\n",
      "47\n",
      "49\n",
      "50\n",
      "51\n",
      "52\n",
      "53\n",
      "57\n",
      "58\n",
      "62\n",
      "63\n",
      "64\n",
      "65\n",
      "66\n",
      "67\n",
      "68\n",
      "69\n",
      "70\n",
      "109\n",
      "110\n",
      "112\n",
      "113\n"
     ]
    }
   ],
   "source": [
    "# dives_pdsi removed dives\n",
    "### West seals ### Should I use west dives rather using sealID and divenumber\n",
    "# Each seal is read in and appended\n",
    "dives_pdsi=readRDS('C:/Users/Sean Evans/Documents/2020/MSc/Computing/MSc/Plots & Dive Tables/dives_pdsi.rds')\n",
    "dives_pdsi = pandas2ri.ri2py(dives_pdsi)\n",
    "for f in tqdm_notebook(list(range(len(SealIDS)))):\n",
    "    number = SealIDS[f]\n",
    "    \n",
    "    print(number)\n",
    "    #if sealID in winter\n",
    "    if number in summer:\n",
    "        if (dives_pdsi[(dives_pdsi.sealID==str(number)) & (dives_pdsi.WE=='West')].size>0) & (False if 'g' in dir() else True):\n",
    "            g=1\n",
    "            flr_gridded_xds = xr.open_dataarray('C:/Users/Sean Evans/Documents/2020/MSc/Computing/MSc/Gridded_Temp_TimeSeries/'+str(number)+'_flr_gridded_xds.nc')\n",
    "            dives_ = dives_pdsi[(dives_pdsi.sealID==str(number)) & (dives_pdsi.WE=='West')]\n",
    "            bsm_seg_df = readRDS('C:/Users/Sean Evans/Documents/2020/MSc/Computing/MSc/bsm_seg_df/'+str(number)+'_bsm_seg_df.rds')\n",
    "            bsm_seg_df = pandas2ri.ri2py(bsm_seg_df)\n",
    "    \n",
    "            flr_gridded_xds = flr_gridded_xds.rename({'Time': 'num'})\n",
    "            flr_gridded_xds.coords['num'] = bsm_seg_df.num.unique()\n",
    "            flr_gridded_xds=flr_gridded_xds.sel(num=dives_.num.values)\n",
    "            sid = repeat(number,len(flr_gridded_xds.num))\n",
    "            yr = dives_.year.values\n",
    "            flr_gridded_xdsw = flr_gridded_xds.assign_coords(sealID=('num',sid))\n",
    "            flr_gridded_xdsw = flr_gridded_xdsw.assign_coords(year=('num',yr))\n",
    "            \n",
    "            \n",
    "        if (dives_pdsi[(dives_pdsi.sealID==str(number)) & (dives_pdsi.WE=='West')].size>0) & (True if 'g' in dir() else False):\n",
    "            flr_gridded_xds1 = xr.open_dataarray('C:/Users/Sean Evans/Documents/2020/MSc/Computing/MSc/Gridded_Temp_TimeSeries/'+str(number)+'_flr_gridded_xds.nc')\n",
    "            dives_ = dives_pdsi[(dives_pdsi.sealID==str(number)) & (dives_pdsi.WE=='West')]\n",
    "            bsm_seg_df = readRDS('C:/Users/Sean Evans/Documents/2020/MSc/Computing/MSc/bsm_seg_df/'+str(number)+'_bsm_seg_df.rds')\n",
    "            bsm_seg_df = pandas2ri.ri2py(bsm_seg_df)\n",
    "    \n",
    "            flr_gridded_xds1 = flr_gridded_xds1.rename({'Time': 'num'})\n",
    "            flr_gridded_xds1.coords['num'] = bsm_seg_df.num.unique()\n",
    "            flr_gridded_xds1=flr_gridded_xds1.sel(num=dives_.num.values)\n",
    "            sid = repeat(number,len(flr_gridded_xds1.num))\n",
    "            yr = dives_.year.values\n",
    "            flr_gridded_xdsw1 = flr_gridded_xds1.assign_coords(sealID=('num',sid))\n",
    "            flr_gridded_xdsw1 = flr_gridded_xdsw1.assign_coords(year=('num',yr))\n",
    "            \n",
    "            flr_gridded_xdsw = xr.concat((flr_gridded_xdsw,flr_gridded_xdsw1),dim='num')\n",
    "del(g)"
   ]
  },
  {
   "cell_type": "code",
   "execution_count": null,
   "metadata": {},
   "outputs": [],
   "source": []
  },
  {
   "cell_type": "code",
   "execution_count": null,
   "metadata": {},
   "outputs": [],
   "source": []
  },
  {
   "cell_type": "markdown",
   "metadata": {},
   "source": [
    "# Most recent West"
   ]
  },
  {
   "cell_type": "code",
   "execution_count": 163,
   "metadata": {},
   "outputs": [
    {
     "name": "stderr",
     "output_type": "stream",
     "text": [
      "C:\\Users\\Sean Evans\\Anaconda3\\lib\\site-packages\\rpy2-2.9.4-py3.6-win-amd64.egg\\rpy2\\robjects\\pandas2ri.py:191: FutureWarning:\n",
      "\n",
      "from_items is deprecated. Please use DataFrame.from_dict(dict(items), ...) instead. DataFrame.from_dict(OrderedDict(items)) may be used to preserve the key order.\n",
      "\n"
     ]
    },
    {
     "data": {
      "application/vnd.jupyter.widget-view+json": {
       "model_id": "450a97b30cb54c638f4206a89adead37",
       "version_major": 2,
       "version_minor": 0
      },
      "text/plain": [
       "HBox(children=(IntProgress(value=0, max=12), HTML(value='')))"
      ]
     },
     "metadata": {},
     "output_type": "display_data"
    },
    {
     "name": "stdout",
     "output_type": "stream",
     "text": [
      "21\n",
      "22\n",
      "52\n",
      "53\n",
      "57\n",
      "58\n",
      "63\n",
      "64\n",
      "65\n",
      "66\n",
      "67\n",
      "113\n",
      "\n"
     ]
    }
   ],
   "source": [
    "# dives_pdsi removed dives with Time and num\n",
    "### West seals ### Should I use west dives rather using sealID and divenumber\n",
    "# Each seal is read in and appended\n",
    "#del(g)\n",
    "#del(flr_gridded_xdsw)\n",
    "\n",
    "diving=readRDS('C:/Users/Sean Evans/Documents/2020/MSc/Computing/MSc/Plots & Dive Tables/diving.rds')\n",
    "diving = pandas2ri.ri2py(diving)\n",
    "for f in tqdm_notebook(list(range(len(West_summer)))):\n",
    "    number = West_summer[f]\n",
    "    \n",
    "    print(number)\n",
    "    #if sealID in winter\n",
    "    if number in summer:\n",
    "        if f==0:\n",
    "            flr_gridded_xds = xr.open_dataarray('C:/Users/Sean Evans/Documents/2020/MSc/Computing/MSc/Gridded_Temp_TimeSeries/'+str(number)+'_flr_gridded_xds.nc')\n",
    "            dives_ = diving[(diving.sealID==str(number)) & (diving.WE=='West')]\n",
    "            bsm_seg_df = readRDS('C:/Users/Sean Evans/Documents/2020/MSc/Computing/MSc/bsm_seg_df/'+str(number)+'_bsm_seg_df.rds')\n",
    "            bsm_seg_df = pandas2ri.ri2py(bsm_seg_df)\n",
    "            \n",
    "            Time = flr_gridded_xds.Time.astype('datetime64[s]').values\n",
    "            flr_gridded_xds = flr_gridded_xds.assign_coords(num=('Time',bsm_seg_df.num.unique()))\n",
    "            flr_gridded_xds = flr_gridded_xds.swap_dims({'Time': 'num'})\n",
    "\n",
    "            flr_gridded_xds=flr_gridded_xds.sel(num=dives_.num.values)\n",
    "            sid = repeat(number,len(flr_gridded_xds.num))\n",
    "            yr = dives_.year.values.astype(int)\n",
    "            lat = dives_.lat.values.astype(float)\n",
    "            lon = dives_.lon.values.astype(float)\n",
    "            flr_gridded_xdsw = flr_gridded_xds.assign_coords(sealID=('num',sid))\n",
    "            flr_gridded_xdsw = flr_gridded_xdsw.assign_coords(year=('num',yr))\n",
    "            flr_gridded_xdsw = flr_gridded_xdsw.assign_coords(lat=('num',lat))\n",
    "            flr_gridded_xdsw = flr_gridded_xdsw.assign_coords(lon=('num',lon))\n",
    "            \n",
    "        else:\n",
    "            flr_gridded_xds1 = xr.open_dataarray('C:/Users/Sean Evans/Documents/2020/MSc/Computing/MSc/Gridded_Temp_TimeSeries/'+str(number)+'_flr_gridded_xds.nc')\n",
    "            dives_ = diving[(diving.sealID==str(number)) & (diving.WE=='West')]\n",
    "            bsm_seg_df = readRDS('C:/Users/Sean Evans/Documents/2020/MSc/Computing/MSc/bsm_seg_df/'+str(number)+'_bsm_seg_df.rds')\n",
    "            bsm_seg_df = pandas2ri.ri2py(bsm_seg_df)\n",
    "            \n",
    "            Time = flr_gridded_xds1.Time.astype('datetime64[s]').values\n",
    "            flr_gridded_xds1 = flr_gridded_xds1.assign_coords(num=('Time',bsm_seg_df.num.unique()))\n",
    "            flr_gridded_xds1 = flr_gridded_xds1.swap_dims({'Time': 'num'})\n",
    "\n",
    "            flr_gridded_xds1=flr_gridded_xds1.sel(num=dives_.num.values)\n",
    "            sid = repeat(number,len(flr_gridded_xds1.num))\n",
    "            yr = dives_.year.values.astype(int)\n",
    "            lat = dives_.lat.values.astype(float)\n",
    "            lon = dives_.lon.values.astype(float)\n",
    "            flr_gridded_xdsw1 = flr_gridded_xds1.assign_coords(sealID=('num',sid))\n",
    "            flr_gridded_xdsw1 = flr_gridded_xdsw1.assign_coords(year=('num',yr))\n",
    "            flr_gridded_xdsw1 = flr_gridded_xdsw1.assign_coords(lat=('num',lat))\n",
    "            flr_gridded_xdsw1 = flr_gridded_xdsw1.assign_coords(lon=('num',lon))\n",
    "            \n",
    "            flr_gridded_xdsw = xr.concat((flr_gridded_xdsw,flr_gridded_xdsw1),dim='num')\n",
    "\n",
    "flr_gridded_xdsw.coords['Time'] = flr_gridded_xdsw.Time.astype('datetime64[s]')\n",
    "flr_gridded_xdsw = flr_gridded_xdsw.swap_dims({'num': 'Time'})\n",
    "#flr_gridded_xdse.Time.dt.month\n",
    "#flr_gridded_xdse[\"Time.year\"]\n",
    "#flr_gridded_xdse[\"Time\"].dt.season\n",
    "#flr_gridded_xdse.groupby('Time.year','Time.month').mean()"
   ]
  },
  {
   "cell_type": "code",
   "execution_count": 164,
   "metadata": {},
   "outputs": [
    {
     "data": {
      "text/plain": [
       "<xarray.DataArray (depths: 200, Time: 36212)>\n",
       "array([[5.95, 5.35,  nan, ...,  nan,  nan, 9.7 ],\n",
       "       [5.95, 5.35,  nan, ...,  nan, 9.45, 9.7 ],\n",
       "       [5.95, 5.35, 6.75, ...,  nan, 9.45, 9.7 ],\n",
       "       ...,\n",
       "       [ nan,  nan,  nan, ...,  nan,  nan,  nan],\n",
       "       [ nan,  nan,  nan, ...,  nan,  nan,  nan],\n",
       "       [ nan,  nan,  nan, ...,  nan,  nan,  nan]])\n",
       "Coordinates:\n",
       "  * depths   (depths) float64 1.0 2.0 3.0 4.0 5.0 6.0 7.0 8.0 9.0 10.0 11.0 ...\n",
       "  * Time     (Time) datetime64[ns] 2012-03-02T15:11:00 2012-02-22T00:07:13 ...\n",
       "    num      (Time) float64 3.215e+04 1.731e+04 32.0 52.0 54.0 56.0 58.0 ...\n",
       "    sealID   (Time) int32 21 22 52 52 52 52 52 52 52 52 52 52 52 52 52 52 52 ...\n",
       "    year     (Time) int32 2012 2012 2012 2012 2012 2012 2012 2012 2012 2012 ...\n",
       "    lat      (Time) float64 -46.87 -47.52 -46.82 -46.82 -46.82 -46.82 -46.82 ...\n",
       "    lon      (Time) float64 37.75 37.47 37.49 37.49 37.49 37.49 37.49 37.43 ..."
      ]
     },
     "execution_count": 164,
     "metadata": {},
     "output_type": "execute_result"
    }
   ],
   "source": [
    "flr_gridded_xdsw"
   ]
  },
  {
   "cell_type": "code",
   "execution_count": 165,
   "metadata": {},
   "outputs": [
    {
     "data": {
      "text/plain": [
       "array([   1,    1, 5233, 6045, 1087, 1802, 5231, 4665, 4416, 1252, 3698,\n",
       "       2450])"
      ]
     },
     "execution_count": 165,
     "metadata": {},
     "output_type": "execute_result"
    }
   ],
   "source": [
    "np.apply_along_axis(axis=0,arr=flr_gridded_xdsw.groupby('sealID').count(axis=1),func1d=max)"
   ]
  },
  {
   "cell_type": "code",
   "execution_count": 166,
   "metadata": {},
   "outputs": [
    {
     "name": "stdout",
     "output_type": "stream",
     "text": [
      "Stored 'flr_gridded_xdsw' (DataArray)\n"
     ]
    }
   ],
   "source": [
    "%store flr_gridded_xdsw\n",
    "#%store -r flr_gridded_xdsw"
   ]
  },
  {
   "cell_type": "markdown",
   "metadata": {},
   "source": [
    "#### East dives"
   ]
  },
  {
   "cell_type": "code",
   "execution_count": 5,
   "metadata": {},
   "outputs": [
    {
     "data": {
      "application/vnd.jupyter.widget-view+json": {
       "model_id": "822b8601308e42d0bb0b7bcd82d09bc1",
       "version_major": 2,
       "version_minor": 0
      },
      "text/plain": [
       "HBox(children=(IntProgress(value=0, max=39), HTML(value='')))"
      ]
     },
     "metadata": {},
     "output_type": "display_data"
    },
    {
     "name": "stdout",
     "output_type": "stream",
     "text": [
      "1\n",
      "2\n",
      "4\n",
      "5\n",
      "13\n"
     ]
    },
    {
     "name": "stderr",
     "output_type": "stream",
     "text": [
      "C:\\Users\\Sean Evans\\Anaconda3\\lib\\site-packages\\rpy2-2.9.4-py3.6-win-amd64.egg\\rpy2\\robjects\\pandas2ri.py:191: FutureWarning:\n",
      "\n",
      "from_items is deprecated. Please use DataFrame.from_dict(dict(items), ...) instead. DataFrame.from_dict(OrderedDict(items)) may be used to preserve the key order.\n",
      "\n"
     ]
    },
    {
     "name": "stdout",
     "output_type": "stream",
     "text": [
      "14\n",
      "15\n",
      "16\n",
      "17\n",
      "18\n",
      "19\n",
      "20\n",
      "21\n",
      "22\n",
      "23\n",
      "24\n",
      "25\n",
      "31\n",
      "47\n",
      "49\n",
      "50\n",
      "51\n",
      "52\n",
      "53\n",
      "57\n",
      "58\n",
      "62\n",
      "63\n",
      "64\n",
      "65\n",
      "66\n",
      "67\n",
      "68\n",
      "69\n",
      "70\n",
      "109\n",
      "110\n",
      "112\n",
      "113\n",
      "\n"
     ]
    }
   ],
   "source": [
    "# Divesummary\n",
    "### West seals ### Should I use west dives rather using sealID and divenumber\n",
    "# Each seal is read in and appended\n",
    "for f in tqdm_notebook(list(range(len(SealIDS)))):\n",
    "    number = SealIDS[f]\n",
    "    print(number)\n",
    "    #if sealID in winter\n",
    "    if number in East_summer:\n",
    "        if number==East_summer[0]:\n",
    "            flr_gridded_xds = xr.open_dataarray('C:/Users/Sean Evans/Documents/2020/MSc/Computing/MSc/Gridded_Temp_TimeSeries/'+str(number)+'_flr_gridded_xds.nc')\n",
    "            divessummary=pd.read_csv('C:/Users/Sean Evans/Documents/2020/MSc/Computing/MSc/Plots & Dive Tables/Seal'+str(number)+'/divessummary.csv')\n",
    "\n",
    "            bsm_seg_df = readRDS('C:/Users/Sean Evans/Documents/2020/MSc/Computing/MSc/bsm_seg_df/'+str(number)+'_bsm_seg_df.rds')\n",
    "            bsm_seg_df = pandas2ri.ri2py(bsm_seg_df)\n",
    "    \n",
    "            flr_gridded_xds = flr_gridded_xds.rename({'Time': 'num'})\n",
    "            flr_gridded_xds.coords['num'] = bsm_seg_df.num.unique()\n",
    "            flr_gridded_xds=flr_gridded_xds.sel(num=divessummary.num.values)\n",
    "            sid = repeat(number,len(flr_gridded_xds.num))\n",
    "            flr_gridded_xdse = flr_gridded_xds.assign_coords(sealID=('num',sid))\n",
    "            \n",
    "        else:\n",
    "            flr_gridded_xds1 = xr.open_dataarray('C:/Users/Sean Evans/Documents/2020/MSc/Computing/MSc/Gridded_Temp_TimeSeries/'+str(number)+'_flr_gridded_xds.nc')\n",
    "            divessummary=pd.read_csv('C:/Users/Sean Evans/Documents/2020/MSc/Computing/MSc/Plots & Dive Tables/Seal'+str(number)+'/divessummary.csv')\n",
    "            bsm_seg_df = readRDS('C:/Users/Sean Evans/Documents/2020/MSc/Computing/MSc/bsm_seg_df/'+str(number)+'_bsm_seg_df.rds')\n",
    "            bsm_seg_df = pandas2ri.ri2py(bsm_seg_df)\n",
    "    \n",
    "            flr_gridded_xds1 = flr_gridded_xds1.rename({'Time': 'num'})\n",
    "            flr_gridded_xds1.coords['num'] = bsm_seg_df.num.unique()\n",
    "            flr_gridded_xds1=flr_gridded_xds1.sel(num=divessummary.num.values)\n",
    "            sid = repeat(number,len(flr_gridded_xds1.num))\n",
    "            flr_gridded_xds1 = flr_gridded_xds1.assign_coords(sealID=('num',sid))\n",
    "            \n",
    "            flr_gridded_xdse = xr.concat((flr_gridded_xdse,flr_gridded_xds1),dim='num')"
   ]
  },
  {
   "cell_type": "code",
   "execution_count": 5,
   "metadata": {},
   "outputs": [
    {
     "name": "stderr",
     "output_type": "stream",
     "text": [
      "C:\\Users\\Sean Evans\\Anaconda3\\lib\\site-packages\\rpy2-2.9.4-py3.6-win-amd64.egg\\rpy2\\robjects\\pandas2ri.py:191: FutureWarning:\n",
      "\n",
      "from_items is deprecated. Please use DataFrame.from_dict(dict(items), ...) instead. DataFrame.from_dict(OrderedDict(items)) may be used to preserve the key order.\n",
      "\n"
     ]
    },
    {
     "data": {
      "application/vnd.jupyter.widget-view+json": {
       "model_id": "a836e7346fc6408e81a8ddd6c7913c7b",
       "version_major": 2,
       "version_minor": 0
      },
      "text/plain": [
       "HBox(children=(IntProgress(value=0, max=39), HTML(value='')))"
      ]
     },
     "metadata": {},
     "output_type": "display_data"
    },
    {
     "name": "stdout",
     "output_type": "stream",
     "text": [
      "1\n",
      "2\n",
      "4\n",
      "5\n",
      "13\n",
      "14\n",
      "15\n",
      "16\n",
      "17\n",
      "18\n",
      "19\n",
      "20\n",
      "21\n",
      "22\n",
      "23\n",
      "24\n",
      "25\n",
      "31\n",
      "47\n",
      "49\n",
      "50\n",
      "51\n",
      "52\n",
      "53\n",
      "57\n",
      "58\n",
      "62\n",
      "63\n",
      "64\n",
      "65\n",
      "66\n",
      "67\n",
      "68\n",
      "69\n",
      "70\n",
      "109\n",
      "110\n",
      "112\n",
      "113\n",
      "\n"
     ]
    }
   ],
   "source": [
    "# dives_pdsi removed dives\n",
    "### East seals ### Should I use west dives rather using sealID and divenumber\n",
    "# Each seal is read in and appended\n",
    "dives_pdsi=readRDS('C:/Users/Sean Evans/Documents/2020/MSc/Computing/MSc/Plots & Dive Tables/dives_pdsi.rds')\n",
    "dives_pdsi = pandas2ri.ri2py(dives_pdsi)\n",
    "for f in tqdm_notebook(list(range(len(SealIDS)))):\n",
    "    number = SealIDS[f]\n",
    "    print(number)\n",
    "    #if sealID in winter\n",
    "    if number in East_summer:\n",
    "        if number==East_summer[0]:\n",
    "            flr_gridded_xds = xr.open_dataarray('C:/Users/Sean Evans/Documents/2020/MSc/Computing/MSc/Gridded_Temp_TimeSeries/'+str(number)+'_flr_gridded_xds.nc')\n",
    "            dives_ = dives_pdsi[dives_pdsi.sealID==str(number)]\n",
    "            bsm_seg_df = readRDS('C:/Users/Sean Evans/Documents/2020/MSc/Computing/MSc/bsm_seg_df/'+str(number)+'_bsm_seg_df.rds')\n",
    "            bsm_seg_df = pandas2ri.ri2py(bsm_seg_df)\n",
    "    \n",
    "            flr_gridded_xds = flr_gridded_xds.rename({'Time': 'num'})\n",
    "            flr_gridded_xds.coords['num'] = bsm_seg_df.num.unique()\n",
    "            flr_gridded_xds=flr_gridded_xds.sel(num=dives_.num.values)\n",
    "            sid = repeat(number,len(flr_gridded_xds.num))\n",
    "            flr_gridded_xdse = flr_gridded_xds.assign_coords(sealID=('num',sid))\n",
    "            \n",
    "        else:\n",
    "            flr_gridded_xds1 = xr.open_dataarray('C:/Users/Sean Evans/Documents/2020/MSc/Computing/MSc/Gridded_Temp_TimeSeries/'+str(number)+'_flr_gridded_xds.nc')\n",
    "            dives_ = dives_pdsi[dives_pdsi.sealID==str(number)]\n",
    "            bsm_seg_df = readRDS('C:/Users/Sean Evans/Documents/2020/MSc/Computing/MSc/bsm_seg_df/'+str(number)+'_bsm_seg_df.rds')\n",
    "            bsm_seg_df = pandas2ri.ri2py(bsm_seg_df)\n",
    "    \n",
    "            flr_gridded_xds1 = flr_gridded_xds1.rename({'Time': 'num'})\n",
    "            flr_gridded_xds1.coords['num'] = bsm_seg_df.num.unique()\n",
    "            flr_gridded_xds1=flr_gridded_xds1.sel(num=dives_.num.values)\n",
    "            sid = repeat(number,len(flr_gridded_xds1.num))\n",
    "            flr_gridded_xds1 = flr_gridded_xds1.assign_coords(sealID=('num',sid))\n",
    "            \n",
    "            flr_gridded_xdse = xr.concat((flr_gridded_xdse,flr_gridded_xds1),dim='num')"
   ]
  },
  {
   "cell_type": "code",
   "execution_count": 123,
   "metadata": {},
   "outputs": [
    {
     "name": "stderr",
     "output_type": "stream",
     "text": [
      "C:\\Users\\Sean Evans\\Anaconda3\\lib\\site-packages\\rpy2-2.9.4-py3.6-win-amd64.egg\\rpy2\\robjects\\pandas2ri.py:191: FutureWarning:\n",
      "\n",
      "from_items is deprecated. Please use DataFrame.from_dict(dict(items), ...) instead. DataFrame.from_dict(OrderedDict(items)) may be used to preserve the key order.\n",
      "\n"
     ]
    },
    {
     "data": {
      "application/vnd.jupyter.widget-view+json": {
       "model_id": "5f00b27bd61d4b8594f7925d676189e5",
       "version_major": 2,
       "version_minor": 0
      },
      "text/plain": [
       "HBox(children=(IntProgress(value=0, max=39), HTML(value='')))"
      ]
     },
     "metadata": {},
     "output_type": "display_data"
    },
    {
     "name": "stdout",
     "output_type": "stream",
     "text": [
      "1\n",
      "2\n",
      "4\n",
      "5\n",
      "13\n",
      "14\n",
      "15\n",
      "16\n",
      "17\n",
      "18\n",
      "19\n",
      "20\n",
      "21\n",
      "22\n",
      "23\n",
      "24\n",
      "25\n",
      "31\n",
      "47\n",
      "49\n",
      "50\n",
      "51\n",
      "52\n",
      "53\n",
      "57\n",
      "58\n",
      "62\n",
      "63\n",
      "64\n",
      "65\n",
      "66\n",
      "67\n",
      "68\n",
      "69\n",
      "70\n",
      "109\n",
      "110\n",
      "112\n",
      "113\n"
     ]
    }
   ],
   "source": [
    "# dives_pdsi removed dives\n",
    "### West seals ### Should I use west dives rather using sealID and divenumber\n",
    "# Each seal is read in and appended\n",
    "dives_pdsi=readRDS('C:/Users/Sean Evans/Documents/2020/MSc/Computing/MSc/Plots & Dive Tables/dives_pdsi.rds')\n",
    "dives_pdsi = pandas2ri.ri2py(dives_pdsi)\n",
    "for f in tqdm_notebook(list(range(len(SealIDS)))):\n",
    "    number = SealIDS[f]\n",
    "    \n",
    "    print(number)\n",
    "    #if sealID in winter\n",
    "    if number in summer:\n",
    "        if (dives_pdsi[(dives_pdsi.sealID==str(number)) & (dives_pdsi.WE=='East')].size>0) & (False if 'g' in dir() else True):\n",
    "            g=1\n",
    "            flr_gridded_xds = xr.open_dataarray('C:/Users/Sean Evans/Documents/2020/MSc/Computing/MSc/Gridded_Temp_TimeSeries/'+str(number)+'_flr_gridded_xds.nc')\n",
    "            dives_ = dives_pdsi[(dives_pdsi.sealID==str(number)) & (dives_pdsi.WE=='East')]\n",
    "            bsm_seg_df = readRDS('C:/Users/Sean Evans/Documents/2020/MSc/Computing/MSc/bsm_seg_df/'+str(number)+'_bsm_seg_df.rds')\n",
    "            bsm_seg_df = pandas2ri.ri2py(bsm_seg_df)\n",
    "    \n",
    "            flr_gridded_xds = flr_gridded_xds.rename({'Time': 'num'})\n",
    "            flr_gridded_xds.coords['num'] = bsm_seg_df.num.unique()\n",
    "            flr_gridded_xds=flr_gridded_xds.sel(num=dives_.num.values)\n",
    "            sid = repeat(number,len(flr_gridded_xds.num))\n",
    "            yr = dives_.year.values\n",
    "            flr_gridded_xdse = flr_gridded_xds.assign_coords(sealID=('num',sid))\n",
    "            flr_gridded_xdse = flr_gridded_xdse.assign_coords(year=('num',yr))\n",
    "            \n",
    "            \n",
    "        if (dives_pdsi[(dives_pdsi.sealID==str(number)) & (dives_pdsi.WE=='East')].size>0) & (True if 'g' in dir() else False):\n",
    "            flr_gridded_xds1 = xr.open_dataarray('C:/Users/Sean Evans/Documents/2020/MSc/Computing/MSc/Gridded_Temp_TimeSeries/'+str(number)+'_flr_gridded_xds.nc')\n",
    "            dives_ = dives_pdsi[(dives_pdsi.sealID==str(number)) & (dives_pdsi.WE=='East')]\n",
    "            bsm_seg_df = readRDS('C:/Users/Sean Evans/Documents/2020/MSc/Computing/MSc/bsm_seg_df/'+str(number)+'_bsm_seg_df.rds')\n",
    "            bsm_seg_df = pandas2ri.ri2py(bsm_seg_df)\n",
    "    \n",
    "            flr_gridded_xds1 = flr_gridded_xds1.rename({'Time': 'num'})\n",
    "            flr_gridded_xds1.coords['num'] = bsm_seg_df.num.unique()\n",
    "            flr_gridded_xds1=flr_gridded_xds1.sel(num=dives_.num.values)\n",
    "            sid = repeat(number,len(flr_gridded_xds1.num))\n",
    "            yr = dives_.year.values\n",
    "            flr_gridded_xdse1 = flr_gridded_xds1.assign_coords(sealID=('num',sid))\n",
    "            flr_gridded_xdse1 = flr_gridded_xdse1.assign_coords(year=('num',yr))\n",
    "            \n",
    "            flr_gridded_xdse = xr.concat((flr_gridded_xdse,flr_gridded_xdse1),dim='num')\n",
    "del(g)"
   ]
  },
  {
   "cell_type": "markdown",
   "metadata": {},
   "source": [
    "# Most recent East"
   ]
  },
  {
   "cell_type": "code",
   "execution_count": 161,
   "metadata": {},
   "outputs": [
    {
     "name": "stderr",
     "output_type": "stream",
     "text": [
      "C:\\Users\\Sean Evans\\Anaconda3\\lib\\site-packages\\rpy2-2.9.4-py3.6-win-amd64.egg\\rpy2\\robjects\\pandas2ri.py:191: FutureWarning:\n",
      "\n",
      "from_items is deprecated. Please use DataFrame.from_dict(dict(items), ...) instead. DataFrame.from_dict(OrderedDict(items)) may be used to preserve the key order.\n",
      "\n"
     ]
    },
    {
     "data": {
      "application/vnd.jupyter.widget-view+json": {
       "model_id": "00f03e4affd44e0c8a1f5ce0dc5b5c9b",
       "version_major": 2,
       "version_minor": 0
      },
      "text/plain": [
       "HBox(children=(IntProgress(value=0, max=12), HTML(value='')))"
      ]
     },
     "metadata": {},
     "output_type": "display_data"
    },
    {
     "name": "stdout",
     "output_type": "stream",
     "text": [
      "13\n",
      "14\n",
      "15\n",
      "16\n",
      "20\n",
      "21\n",
      "22\n",
      "23\n",
      "58\n",
      "63\n",
      "110\n",
      "112\n",
      "\n"
     ]
    }
   ],
   "source": [
    "# dives_pdsi removed dives with Time and num\n",
    "### West seals ### Should I use west dives rather using sealID and divenumber\n",
    "# Each seal is read in and appended\n",
    "#del(g)\n",
    "#del(flr_gridded_xdsw)\n",
    "\n",
    "diving=readRDS('C:/Users/Sean Evans/Documents/2020/MSc/Computing/MSc/Plots & Dive Tables/diving.rds')\n",
    "diving = pandas2ri.ri2py(diving)\n",
    "for f in tqdm_notebook(list(range(len(East_summer)))):\n",
    "    number = East_summer[f]\n",
    "    \n",
    "    print(number)\n",
    "    #if sealID in winter\n",
    "    if number in summer:\n",
    "        if f==0:\n",
    "            flr_gridded_xds = xr.open_dataarray('C:/Users/Sean Evans/Documents/2020/MSc/Computing/MSc/Gridded_Temp_TimeSeries/'+str(number)+'_flr_gridded_xds.nc')\n",
    "            dives_ = diving[(diving.sealID==str(number)) & (diving.WE=='East')]\n",
    "            bsm_seg_df = readRDS('C:/Users/Sean Evans/Documents/2020/MSc/Computing/MSc/bsm_seg_df/'+str(number)+'_bsm_seg_df.rds')\n",
    "            bsm_seg_df = pandas2ri.ri2py(bsm_seg_df)\n",
    "            \n",
    "            Time = flr_gridded_xds.Time.astype('datetime64[s]').values\n",
    "            flr_gridded_xds = flr_gridded_xds.assign_coords(num=('Time',bsm_seg_df.num.unique()))\n",
    "            flr_gridded_xds = flr_gridded_xds.swap_dims({'Time': 'num'})\n",
    "\n",
    "            flr_gridded_xds=flr_gridded_xds.sel(num=dives_.num.values)\n",
    "            sid = repeat(number,len(flr_gridded_xds.num))\n",
    "            yr = dives_.year.values.astype(int)\n",
    "            lat = dives_.lat.values.astype(float)\n",
    "            lon = dives_.lon.values.astype(float)\n",
    "            flr_gridded_xdse = flr_gridded_xds.assign_coords(sealID=('num',sid))\n",
    "            flr_gridded_xdse = flr_gridded_xdse.assign_coords(year=('num',yr))\n",
    "            flr_gridded_xdse = flr_gridded_xdse.assign_coords(lat=('num',lat))\n",
    "            flr_gridded_xdse = flr_gridded_xdse.assign_coords(lon=('num',lon))\n",
    "            \n",
    "        else:\n",
    "            flr_gridded_xds1 = xr.open_dataarray('C:/Users/Sean Evans/Documents/2020/MSc/Computing/MSc/Gridded_Temp_TimeSeries/'+str(number)+'_flr_gridded_xds.nc')\n",
    "            dives_ = diving[(diving.sealID==str(number)) & (diving.WE=='East')]\n",
    "            bsm_seg_df = readRDS('C:/Users/Sean Evans/Documents/2020/MSc/Computing/MSc/bsm_seg_df/'+str(number)+'_bsm_seg_df.rds')\n",
    "            bsm_seg_df = pandas2ri.ri2py(bsm_seg_df)\n",
    "            \n",
    "            Time = flr_gridded_xds1.Time.astype('datetime64[s]').values\n",
    "            flr_gridded_xds1 = flr_gridded_xds1.assign_coords(num=('Time',bsm_seg_df.num.unique()))\n",
    "            flr_gridded_xds1 = flr_gridded_xds1.swap_dims({'Time': 'num'})\n",
    "\n",
    "            flr_gridded_xds1=flr_gridded_xds1.sel(num=dives_.num.values)\n",
    "            sid = repeat(number,len(flr_gridded_xds1.num))\n",
    "            yr = dives_.year.values.astype(int)\n",
    "            lat = dives_.lat.values.astype(float)\n",
    "            lon = dives_.lon.values.astype(float)\n",
    "            flr_gridded_xdse1 = flr_gridded_xds1.assign_coords(sealID=('num',sid))\n",
    "            flr_gridded_xdse1 = flr_gridded_xdse1.assign_coords(year=('num',yr))\n",
    "            flr_gridded_xdse1 = flr_gridded_xdse1.assign_coords(lat=('num',lat))\n",
    "            flr_gridded_xdse1 = flr_gridded_xdse1.assign_coords(lon=('num',lon))\n",
    "            \n",
    "            flr_gridded_xdse = xr.concat((flr_gridded_xdse,flr_gridded_xdse1),dim='num')\n",
    "\n",
    "flr_gridded_xdse.coords['Time'] = flr_gridded_xdse.Time.astype('datetime64[s]')\n",
    "flr_gridded_xdse = flr_gridded_xdse.swap_dims({'num': 'Time'})\n",
    "#flr_gridded_xdse.Time.dt.month\n",
    "#flr_gridded_xdse[\"Time.year\"]\n",
    "#flr_gridded_xdse[\"Time\"].dt.season\n",
    "#flr_gridded_xdse.groupby('Time.year','Time.month').mean()"
   ]
  },
  {
   "cell_type": "code",
   "execution_count": 162,
   "metadata": {},
   "outputs": [
    {
     "data": {
      "text/plain": [
       "<xarray.DataArray (depths: 200, Time: 46317)>\n",
       "array([[6.65, 6.7 , 6.7 , ..., 7.75, 7.75, 7.8 ],\n",
       "       [6.65, 6.7 , 6.7 , ..., 7.75, 7.75, 7.8 ],\n",
       "       [6.65, 6.7 , 6.7 , ..., 7.75, 7.75, 7.8 ],\n",
       "       ...,\n",
       "       [ nan,  nan,  nan, ...,  nan,  nan,  nan],\n",
       "       [ nan,  nan,  nan, ...,  nan,  nan,  nan],\n",
       "       [ nan,  nan,  nan, ...,  nan,  nan,  nan]])\n",
       "Coordinates:\n",
       "  * depths   (depths) float64 1.0 2.0 3.0 4.0 5.0 6.0 7.0 8.0 9.0 10.0 11.0 ...\n",
       "  * Time     (Time) datetime64[ns] 2011-01-04T18:11:05 2011-01-04T18:17:05 ...\n",
       "    num      (Time) float64 8.0 10.0 12.0 14.0 16.0 18.0 20.0 22.0 24.0 32.0 ...\n",
       "    sealID   (Time) int32 13 13 13 13 13 13 13 13 13 13 13 13 13 13 13 13 13 ...\n",
       "    year     (Time) int32 2011 2011 2011 2011 2011 2011 2011 2011 2011 2011 ...\n",
       "    lat      (Time) float64 -46.92 -46.92 -46.92 -46.92 -46.92 -46.92 -46.92 ...\n",
       "    lon      (Time) float64 38.43 38.43 38.43 38.43 38.43 38.43 38.43 38.43 ..."
      ]
     },
     "execution_count": 162,
     "metadata": {},
     "output_type": "execute_result"
    }
   ],
   "source": [
    "flr_gridded_xdse"
   ]
  },
  {
   "cell_type": "code",
   "execution_count": 167,
   "metadata": {},
   "outputs": [
    {
     "data": {
      "text/plain": [
       "array([5846, 4098, 2645, 3673, 1624, 7938, 4752, 7077,    5,   30, 3028,\n",
       "       5601])"
      ]
     },
     "execution_count": 167,
     "metadata": {},
     "output_type": "execute_result"
    }
   ],
   "source": [
    "np.apply_along_axis(axis=0,arr=flr_gridded_xdse.groupby('sealID').count(axis=1),func1d=max)"
   ]
  },
  {
   "cell_type": "code",
   "execution_count": 168,
   "metadata": {},
   "outputs": [
    {
     "name": "stdout",
     "output_type": "stream",
     "text": [
      "Stored 'flr_gridded_xdse' (DataArray)\n"
     ]
    }
   ],
   "source": [
    "%store flr_gridded_xdse\n",
    "#%store -r flr_gridded_xdse"
   ]
  },
  {
   "cell_type": "markdown",
   "metadata": {},
   "source": [
    "# Gridded temperature profiles"
   ]
  },
  {
   "cell_type": "code",
   "execution_count": 4,
   "metadata": {},
   "outputs": [],
   "source": [
    "%store -r flr_gridded_xdsw\n",
    "%store -r flr_gridded_xdse"
   ]
  },
  {
   "cell_type": "markdown",
   "metadata": {},
   "source": [
    "## Choosing west or east"
   ]
  },
  {
   "cell_type": "markdown",
   "metadata": {},
   "source": [
    "# Loop all plots"
   ]
  },
  {
   "cell_type": "code",
   "execution_count": 347,
   "metadata": {},
   "outputs": [],
   "source": [
    "flr_gridded_xds = flr_gridded_xdse\n",
    "WE = 'East'\n",
    "\n",
    "#flr_gridded_xds = flr_gridded_xdse\n",
    "#WE = 'East'\n",
    "\n",
    "year=unique(flr_gridded_xds.year)[3]\n",
    "\n",
    "midx = pd.MultiIndex.from_arrays([flr_gridded_xds.Time.values,flr_gridded_xds.num.values,flr_gridded_xds.sealID.values,flr_gridded_xds.year.values,flr_gridded_xds.lat.values,flr_gridded_xds.lon.values], names=(\"Time\",\"num\",\"sealID\",\"year\",\"lat\",\"lon\"))\n",
    "flr_gridded_xds=xr.DataArray(flr_gridded_xds.values, [(\"depths\", flr_gridded_xds.depths),(\"x\", midx)])\n",
    "\n",
    "flr_gridded_xds = flr_gridded_xds.sel(year=year)\n",
    "\n",
    "mean_Tprof = np.apply_along_axis(axis=1,arr=flr_gridded_xds,func1d=np.nanmean)\n",
    "std_Tprof = np.apply_along_axis(axis=1,arr=flr_gridded_xds,func1d=np.nanstd)\n",
    "st_err_Tprof = std_Tprof/sqrt(len(flr_gridded_xds.num))\n",
    "depths = flr_gridded_xds.depths.values"
   ]
  },
  {
   "cell_type": "code",
   "execution_count": 331,
   "metadata": {},
   "outputs": [],
   "source": [
    "#West from r summary()\n",
    "std_mld=std_mldw=32.2219\n",
    "mean_mld=mean_mldw=87.72\n",
    "y=yw=range(3,11,1)\n",
    "# mean max.d for all dives\n",
    "md=mdw=52.44\n",
    "n=nw=len(flr_gridded_xds.num.values)\n",
    "WE='West'\n",
    "tx1=tx1w=8.5\n",
    "tx2=tx2w=8.5\n",
    "ty1=ty1w=-85\n",
    "ty2=ty2w=-50"
   ]
  },
  {
   "cell_type": "code",
   "execution_count": 348,
   "metadata": {},
   "outputs": [
    {
     "data": {
      "text/plain": [
       "array([2011, 2012, 2013, 2015])"
      ]
     },
     "execution_count": 348,
     "metadata": {},
     "output_type": "execute_result"
    }
   ],
   "source": [
    "#unique(flr_gridded_xdsw.year)\n",
    "unique(flr_gridded_xdse.year)"
   ]
  },
  {
   "cell_type": "code",
   "execution_count": 349,
   "metadata": {},
   "outputs": [],
   "source": [
    "#East from r summary()\n",
    "std_mld=std_mlde=17.267\n",
    "mean_mld=mean_mlde=41.7\n",
    "y=ye=range(3,11,1)  \n",
    "# mean max.d for thermocline dives\n",
    "md=mde=57.58\n",
    "n=ne=len(flr_gridded_xds.num.values)\n",
    "WE='East'\n",
    "tx1=tx1w=8.5\n",
    "tx2=tx2w=8.5\n",
    "ty1=ty1w=-39\n",
    "ty2=ty2w=-55"
   ]
  },
  {
   "cell_type": "code",
   "execution_count": 350,
   "metadata": {},
   "outputs": [
    {
     "data": {
      "image/png": "[encoded data removed]",
      "text/plain": [
       "<Figure size 2160x864 with 3 Axes>"
      ]
     },
     "metadata": {},
     "output_type": "display_data"
    }
   ],
   "source": [
    "def count(var):\n",
    "    count_along = []\n",
    "    try:\n",
    "        count=np.count_nonzero(~np.isnan(var))\n",
    "        count_along += count,\n",
    "    except:\n",
    "        count_along += np.NaN,\n",
    "        \n",
    "    return np.array(count_along)\n",
    "\n",
    "counts = np.apply_along_axis(arr=flr_gridded_xds,func1d=count,axis=1)\n",
    "\n",
    "depths_ = np.array(depths,dtype=object).squeeze()\n",
    "counts_ = np.array(counts,dtype=object).squeeze()\n",
    "\n",
    "###############\n",
    "#%% Nt Function\n",
    "###############\n",
    "    \n",
    "def calc_N_sq(var):\n",
    "\n",
    "    \"\"\"Calculate Nt\n",
    "\n",
    "    Args:\n",
    "    var: Temperature \n",
    "\n",
    "    Return:\n",
    "    Nt for each depth based on temperature difference\n",
    "\n",
    "    Dependencies:\n",
    "    numpy\n",
    "\n",
    "    \"\"\"\n",
    "    import numpy as np\n",
    "    Nt=[]\n",
    "    Nt_mean = []\n",
    "\n",
    "    try:\n",
    "        T_diff = diff(var)/diff(dpt)\n",
    "        nt = T_diff*(g*alpha)\n",
    "        Nt += nt,\n",
    "        Nt_mean = np.nanmean(nt)\n",
    "    except:\n",
    "        Nt += np.NaN,\n",
    "        Nt_mean = np.NaN\n",
    "\n",
    "    return np.array(Nt,Nt_mean)\n",
    "\n",
    "    ###############\n",
    "    #%% Executing Nt Function\n",
    "    ###############\n",
    "\n",
    "g = 9.8\n",
    "alpha = -0.000125\n",
    "dpt = flr_gridded_xds.depths.values\n",
    "Nt = np.apply_along_axis(calc_N_sq,0,flr_gridded_xds)\n",
    "Nt = Nt.squeeze()\n",
    "    \n",
    "Nt_xds = xr.DataArray(data=Nt,dims=[\"depths\",\"num\"],\n",
    "    coords={\"depths\":arange(1,200,1),\n",
    "    \"num\": flr_gridded_xds.num.values                                     \n",
    "    })\n",
    "Nt_xds = Nt_xds*1e5\n",
    "#%% Saving Nt dataframe \n",
    "#Nt_xds.to_netcdf('C:/Users/Sean Evans/Documents/2020/MSc/Computing/MSc/Nt_xds/'+str(number)+'_Nt_xds.nc')\n",
    "mean_Nt_xds = np.apply_along_axis(axis=1,arr=abs(Nt_xds),func1d=np.nanmean)\n",
    "std_Nt_xds = np.apply_along_axis(axis=1,arr=abs(Nt_xds),func1d=np.nanstd)\n",
    "st_err_Nt_xds = std_Tprof/sqrt(len(abs(Nt_xds).num))\n",
    "depthsN = Nt_xds.depths.values\n",
    "\n",
    "fig, ax = plt.subplots(figsize=(30,12),ncols=3,nrows=1)\n",
    "\n",
    "##### Mean Temp profile and mld\n",
    "ax[0].plot(mean_Tprof, -depths, '-')\n",
    "ax[0].fill_betweenx(-depths,mean_Tprof - std_Tprof, mean_Tprof + std_Tprof, alpha=0.4)\n",
    "ax[0].hlines(-mean_mld, colors='blue', xmin=3, xmax=10)\n",
    "ax[0].fill_between(y,-mean_mld - std_mld, -mean_mld + std_mld, alpha=0.4, color='blue')\n",
    "ax[0].hlines(-md, colors='green', xmin=3, xmax=10)\n",
    "\n",
    "ax[0].legend(('Mean_Temp', 'Std_Temp', 'Mean_mld','Std_mld','Seal_max'),\n",
    "           shadow=True, loc=(0.68, 0.15), handlelength=1.5, fontsize=14)\n",
    "#ax[0].set_xticklabels(fontsize=18) #fontsize=18, color='k'\n",
    "ax[0].tick_params(axis = 'both', which = 'major', labelsize = 16)\n",
    "ax[0].set_xlabel('Temp [DegC]',fontsize=18, color='black')\n",
    "ax[0].set_ylabel('Depth [m]',fontsize=18, color='black')\n",
    "ax[0].set_title('Mean +/- std Summer '+WE+' Dives (n='+ str(n)+')',fontsize=20)\n",
    "ax[0].set_ylim(-200,0)\n",
    "ax[0].set_xlim(3,10)\n",
    "ax[0].text(tx1,ty1,str(mean_mld)+' [m]',{'color': 'black', 'fontsize': 16})\n",
    "ax[0].text(tx2,ty2,str(md)+' [m]',{'color': 'black', 'fontsize': 16})\n",
    "\n",
    "##### Nt with depth\n",
    "ax[1].plot(mean_Nt_xds, -depthsN, '-')\n",
    "ax[1].fill_betweenx(-depthsN,mean_Nt_xds - std_Nt_xds, mean_Nt_xds + std_Nt_xds, alpha=0.4)\n",
    "#ax.hlines(-mean_mlde, colors='blue')#, xmin=3, xmax=10\n",
    "#ax.fill_between(ye,-mean_mlde - std_mlde, -mean_mlde + std_mlde, alpha=0.4, color='blue')\n",
    "#ax.hlines(-mde, colors='green') #, xmin=3, xmax=10\n",
    "\n",
    "#plt.legend(('Mean_Temp', 'Std_Temp', 'Mean_mld','Std_mld','Seal_max'),\n",
    "#           shadow=True, loc=(0.68, 0.15), handlelength=1.5, fontsize=18)\n",
    "ax[1].tick_params(axis = 'both', which = 'major', labelsize = 16)\n",
    "ax[1].set_yticks([]) #fontsize=18, color='k'\n",
    "ax[1].set_xlabel('Nt [1/s-2] * 1e5',fontsize=18, color='black')\n",
    "ax[1].set_ylabel('Depth [m]',fontsize=18, color='black')\n",
    "ax[1].set_title('Mean +/- std Summer '+WE+' Dives (n='+ str(n)+')',fontsize=20)\n",
    "\n",
    "ax[1].set_ylim(-200,0)\n",
    "ax[1].set_xlim(0,9)\n",
    "\n",
    "##### Counts\n",
    "#ax[2].barh(-depths,counts_/counts_.max(),1, edgecolor='black', color='none',align='center') \n",
    "ax[2].plot(counts_/counts_.max(),-depths_,color='black') \n",
    "\n",
    "ax[2].set_ylim(-200,0)\n",
    "#ax[2].set_xscale('log')\n",
    "ax[2].set_xlim(0,1)\n",
    "ax[2].tick_params(axis = 'both', which = 'major', labelsize = 16)\n",
    "ax[2].set_yticks([]) #fontsize=18, color='k'\n",
    "\n",
    "ax[2].set_title('Proportion of dives with depth',fontsize=20,)\n",
    "ax[2].set_xlabel('Proportion of dives [%]',fontsize=18, color='black')\n",
    "#ax[2].set_ylabel('Depth [m]',fontsize=18, color='black')\n",
    "\n",
    "savefig('C:/Users/Sean Evans/Documents/2020/MSc/Computing/MSc/Plots & Dive Tables/All seals/Exploratory analysis/Tile mapping/Summer/New therm threshold (0.25)/'+WE+'_Summer_mld_'+str(year)+'.png')"
   ]
  },
  {
   "cell_type": "markdown",
   "metadata": {},
   "source": [
    "## Calculating mean gridded Nt with depth"
   ]
  },
  {
   "cell_type": "code",
   "execution_count": 102,
   "metadata": {},
   "outputs": [],
   "source": [
    "###############\n",
    "#%% Nt Function\n",
    "###############\n",
    "    \n",
    "def calc_N_sq(var):\n",
    "\n",
    "    \"\"\"Calculate Nt\n",
    "\n",
    "    Args:\n",
    "    var: Temperature \n",
    "\n",
    "    Return:\n",
    "    Nt for each depth based on temperature difference\n",
    "\n",
    "    Dependencies:\n",
    "    numpy\n",
    "\n",
    "    \"\"\"\n",
    "    import numpy as np\n",
    "    Nt=[]\n",
    "    Nt_mean = []\n",
    "\n",
    "    try:\n",
    "        T_diff = diff(var)/diff(dpt)\n",
    "        nt = T_diff*(g*alpha)\n",
    "        Nt += nt,\n",
    "        Nt_mean = np.nanmean(nt)\n",
    "    except:\n",
    "        Nt += np.NaN,\n",
    "        Nt_mean = np.NaN\n",
    "\n",
    "    return np.array(Nt,Nt_mean)\n",
    "\n",
    "    ###############\n",
    "    #%% Executing Nt Function\n",
    "    ###############\n",
    "\n",
    "g = 9.8\n",
    "alpha = -0.000125\n",
    "dpt = flr_gridded_xds.depths.values\n",
    "Nt = np.apply_along_axis(calc_N_sq,0,flr_gridded_xds)\n",
    "Nt = Nt.squeeze()\n",
    "    \n",
    "Nt_xds = xr.DataArray(data=Nt,dims=[\"depths\",\"num\"],\n",
    "    coords={\"depths\":arange(1,200,1),\n",
    "    \"num\": flr_gridded_xds.num.values                                     \n",
    "    })\n",
    "Nt_xds = Nt_xds*1e5\n",
    "#%% Saving Nt dataframe \n",
    "#Nt_xds.to_netcdf('C:/Users/Sean Evans/Documents/2020/MSc/Computing/MSc/Nt_xds/'+str(number)+'_Nt_xds.nc')\n",
    "mean_Nt_xds = np.apply_along_axis(axis=1,arr=abs(Nt_xds),func1d=np.nanmean)\n",
    "std_Nt_xds = np.apply_along_axis(axis=1,arr=abs(Nt_xds),func1d=np.nanstd)\n",
    "st_err_Nt_xds = std_Tprof/sqrt(len(abs(Nt_xds).num))\n",
    "depthsN = Nt_xds.depths.values"
   ]
  },
  {
   "cell_type": "code",
   "execution_count": 103,
   "metadata": {},
   "outputs": [],
   "source": [
    "mean_Nt_xds = np.apply_along_axis(axis=1,arr=abs(Nt_xds),func1d=np.nanmean)\n",
    "std_Nt_xds = np.apply_along_axis(axis=1,arr=abs(Nt_xds),func1d=np.nanstd)\n",
    "st_err_Nt_xds = std_Tprof/sqrt(len(abs(Nt_xds).num))\n",
    "depthsN = Nt_xds.depths.values"
   ]
  },
  {
   "cell_type": "code",
   "execution_count": 104,
   "metadata": {},
   "outputs": [
    {
     "ename": "ValueError",
     "evalue": "operands could not be broadcast together with shapes (200,) (199,) ",
     "output_type": "error",
     "traceback": [
      "\u001b[1;31m---------------------------------------------------------------------------\u001b[0m",
      "\u001b[1;31mValueError\u001b[0m                                Traceback (most recent call last)",
      "\u001b[1;32m<ipython-input-104-ea6902717eb2>\u001b[0m in \u001b[0;36m<module>\u001b[1;34m()\u001b[0m\n\u001b[0;32m      2\u001b[0m \u001b[0mfig\u001b[0m\u001b[1;33m,\u001b[0m \u001b[0max\u001b[0m \u001b[1;33m=\u001b[0m \u001b[0mplt\u001b[0m\u001b[1;33m.\u001b[0m\u001b[0msubplots\u001b[0m\u001b[1;33m(\u001b[0m\u001b[0mfigsize\u001b[0m\u001b[1;33m=\u001b[0m\u001b[1;33m(\u001b[0m\u001b[1;36m10\u001b[0m\u001b[1;33m,\u001b[0m\u001b[1;36m12\u001b[0m\u001b[1;33m)\u001b[0m\u001b[1;33m)\u001b[0m\u001b[1;33m\u001b[0m\u001b[0m\n\u001b[0;32m      3\u001b[0m \u001b[0max\u001b[0m\u001b[1;33m.\u001b[0m\u001b[0mplot\u001b[0m\u001b[1;33m(\u001b[0m\u001b[0mmean_Nt_xds\u001b[0m\u001b[1;33m,\u001b[0m \u001b[1;33m-\u001b[0m\u001b[0mdepthsN\u001b[0m\u001b[1;33m,\u001b[0m \u001b[1;34m'-'\u001b[0m\u001b[1;33m)\u001b[0m\u001b[1;33m\u001b[0m\u001b[0m\n\u001b[1;32m----> 4\u001b[1;33m \u001b[0max\u001b[0m\u001b[1;33m.\u001b[0m\u001b[0mfill_betweenx\u001b[0m\u001b[1;33m(\u001b[0m\u001b[1;33m-\u001b[0m\u001b[0mdepths\u001b[0m\u001b[1;33m,\u001b[0m\u001b[0mmean_Nt_xds\u001b[0m \u001b[1;33m-\u001b[0m \u001b[0mstd_Nt_xds\u001b[0m\u001b[1;33m,\u001b[0m \u001b[0mmean_Nt_xds\u001b[0m \u001b[1;33m+\u001b[0m \u001b[0mstd_Nt_xds\u001b[0m\u001b[1;33m,\u001b[0m \u001b[0malpha\u001b[0m\u001b[1;33m=\u001b[0m\u001b[1;36m0.4\u001b[0m\u001b[1;33m)\u001b[0m\u001b[1;33m\u001b[0m\u001b[0m\n\u001b[0m\u001b[0;32m      5\u001b[0m \u001b[1;31m#ax.hlines(-mean_mlde, colors='blue')#, xmin=3, xmax=10\u001b[0m\u001b[1;33m\u001b[0m\u001b[1;33m\u001b[0m\u001b[0m\n\u001b[0;32m      6\u001b[0m \u001b[1;31m#ax.fill_between(ye,-mean_mlde - std_mlde, -mean_mlde + std_mlde, alpha=0.4, color='blue')\u001b[0m\u001b[1;33m\u001b[0m\u001b[1;33m\u001b[0m\u001b[0m\n",
      "\u001b[1;32m~\\Anaconda3\\lib\\site-packages\\matplotlib\\__init__.py\u001b[0m in \u001b[0;36minner\u001b[1;34m(ax, *args, **kwargs)\u001b[0m\n\u001b[0;32m   1853\u001b[0m                         \u001b[1;34m\"the Matplotlib list!)\"\u001b[0m \u001b[1;33m%\u001b[0m \u001b[1;33m(\u001b[0m\u001b[0mlabel_namer\u001b[0m\u001b[1;33m,\u001b[0m \u001b[0mfunc\u001b[0m\u001b[1;33m.\u001b[0m\u001b[0m__name__\u001b[0m\u001b[1;33m)\u001b[0m\u001b[1;33m,\u001b[0m\u001b[1;33m\u001b[0m\u001b[0m\n\u001b[0;32m   1854\u001b[0m                         RuntimeWarning, stacklevel=2)\n\u001b[1;32m-> 1855\u001b[1;33m             \u001b[1;32mreturn\u001b[0m \u001b[0mfunc\u001b[0m\u001b[1;33m(\u001b[0m\u001b[0max\u001b[0m\u001b[1;33m,\u001b[0m \u001b[1;33m*\u001b[0m\u001b[0margs\u001b[0m\u001b[1;33m,\u001b[0m \u001b[1;33m**\u001b[0m\u001b[0mkwargs\u001b[0m\u001b[1;33m)\u001b[0m\u001b[1;33m\u001b[0m\u001b[0m\n\u001b[0m\u001b[0;32m   1856\u001b[0m \u001b[1;33m\u001b[0m\u001b[0m\n\u001b[0;32m   1857\u001b[0m         inner.__doc__ = _add_data_doc(inner.__doc__,\n",
      "\u001b[1;32m~\\Anaconda3\\lib\\site-packages\\matplotlib\\axes\\_axes.py\u001b[0m in \u001b[0;36mfill_betweenx\u001b[1;34m(self, y, x1, x2, where, step, interpolate, **kwargs)\u001b[0m\n\u001b[0;32m   5273\u001b[0m             \u001b[0mwhere\u001b[0m \u001b[1;33m=\u001b[0m \u001b[1;32mTrue\u001b[0m\u001b[1;33m\u001b[0m\u001b[0m\n\u001b[0;32m   5274\u001b[0m         where = where & ~functools.reduce(np.logical_or,\n\u001b[1;32m-> 5275\u001b[1;33m                                           map(np.ma.getmask, [y, x1, x2]))\n\u001b[0m\u001b[0;32m   5276\u001b[0m \u001b[1;33m\u001b[0m\u001b[0m\n\u001b[0;32m   5277\u001b[0m         \u001b[0my\u001b[0m\u001b[1;33m,\u001b[0m \u001b[0mx1\u001b[0m\u001b[1;33m,\u001b[0m \u001b[0mx2\u001b[0m \u001b[1;33m=\u001b[0m \u001b[0mnp\u001b[0m\u001b[1;33m.\u001b[0m\u001b[0mbroadcast_arrays\u001b[0m\u001b[1;33m(\u001b[0m\u001b[0mnp\u001b[0m\u001b[1;33m.\u001b[0m\u001b[0matleast_1d\u001b[0m\u001b[1;33m(\u001b[0m\u001b[0my\u001b[0m\u001b[1;33m)\u001b[0m\u001b[1;33m,\u001b[0m \u001b[0mx1\u001b[0m\u001b[1;33m,\u001b[0m \u001b[0mx2\u001b[0m\u001b[1;33m)\u001b[0m\u001b[1;33m\u001b[0m\u001b[0m\n",
      "\u001b[1;31mValueError\u001b[0m: operands could not be broadcast together with shapes (200,) (199,) "
     ]
    },
    {
     "data": {
      "image/png": "[encoded data removed]",
      "text/plain": [
       "<Figure size 720x864 with 1 Axes>"
      ]
     },
     "metadata": {},
     "output_type": "display_data"
    }
   ],
   "source": [
    "#East \n",
    "fig, ax = plt.subplots(figsize=(10,12))\n",
    "ax.plot(mean_Nt_xds, -depthsN, '-')\n",
    "ax.fill_betweenx(-depths,mean_Nt_xds - std_Nt_xds, mean_Nt_xds + std_Nt_xds, alpha=0.4)\n",
    "#ax.hlines(-mean_mlde, colors='blue')#, xmin=3, xmax=10\n",
    "#ax.fill_between(ye,-mean_mlde - std_mlde, -mean_mlde + std_mlde, alpha=0.4, color='blue')\n",
    "#ax.hlines(-mde, colors='green') #, xmin=3, xmax=10\n",
    "\n",
    "#plt.legend(('Mean_Temp', 'Std_Temp', 'Mean_mld','Std_mld','Seal_max'),\n",
    "#           shadow=True, loc=(0.68, 0.15), handlelength=1.5, fontsize=18)\n",
    "plt.xticks(fontsize=18, color='k')\n",
    "plt.yticks(fontsize=18, color='k')\n",
    "plt.xlabel('Nt [1/s-2] * 1e5',fontsize=18, color='black')\n",
    "plt.ylabel('Depth [m]',fontsize=18, color='black')\n",
    "plt.title('Mean +/- std Summer '+WE+' Dives (n='+ str(n)+')',fontsize=20)\n",
    "\n",
    "plt.ylim(-200,0)\n",
    "plt.xlim(0,9)\n",
    "#plt.text(8.5,-39,str(mean_mlde)+' [m]',{'color': 'black', 'fontsize': 18})\n",
    "#plt.text(8.5,-55,str(mde)+' [m]',{'color': 'black', 'fontsize': 18})\n",
    "\n",
    "#savefig('C:/Users/Sean Evans/Documents/2020/MSc/Computing/MSc/Plots & Dive Tables/All seals/Exploratory analysis/Tile mapping/Summer/New therm threshold (0.25)/East_Summer_mld_.png')"
   ]
  },
  {
   "cell_type": "markdown",
   "metadata": {},
   "source": [
    "### West"
   ]
  },
  {
   "cell_type": "code",
   "execution_count": 52,
   "metadata": {},
   "outputs": [],
   "source": [
    "### West ###\n",
    "###############\n",
    "#%% Nt Function\n",
    "###############\n",
    "    \n",
    "def calc_N_sq(var):\n",
    "\n",
    "    \"\"\"Calculate Nt\n",
    "\n",
    "    Args:\n",
    "    var: Temperature \n",
    "\n",
    "    Return:\n",
    "    Nt for each depth based on temperature difference\n",
    "\n",
    "    Dependencies:\n",
    "    numpy\n",
    "\n",
    "    \"\"\"\n",
    "    import numpy as np\n",
    "    Nt=[]\n",
    "    Nt_mean = []\n",
    "\n",
    "    try:\n",
    "        T_diff = diff(var)/diff(dpt)\n",
    "        nt = T_diff*(g*alpha)\n",
    "        Nt += nt,\n",
    "        Nt_mean = np.nanmean(nt)\n",
    "    except:\n",
    "        Nt += np.NaN,\n",
    "        Nt_mean = np.NaN\n",
    "\n",
    "    return np.array(Nt,Nt_mean)\n",
    "\n",
    "    ###############\n",
    "    #%% Executing Nt Function\n",
    "    ###############\n",
    "\n",
    "g = 9.8\n",
    "alpha = -0.000125\n",
    "dpt = flr_gridded_xdsw.depths.values\n",
    "Nt = np.apply_along_axis(calc_N_sq,0,flr_gridded_xdsw)\n",
    "Nt = Nt.squeeze()\n",
    "    \n",
    "Nt_xdsw = xr.DataArray(data=Nt,dims=[\"depths\",\"num\"],\n",
    "    coords={\"depths\":arange(1,200,1),\n",
    "    \"num\": flr_gridded_xdsw.num.values                                     \n",
    "    })\n",
    "Nt_xdsw = Nt_xdsw*1e5\n",
    "#%% Saving Nt dataframe \n",
    "#Nt_xds.to_netcdf('C:/Users/Sean Evans/Documents/2020/MSc/Computing/MSc/Nt_xds/'+str(number)+'_Nt_xds.nc')"
   ]
  },
  {
   "cell_type": "code",
   "execution_count": 53,
   "metadata": {},
   "outputs": [],
   "source": [
    "mean_Nt_xdsw = np.apply_along_axis(axis=1,arr=abs(Nt_xdsw),func1d=np.nanmean)\n",
    "std_Nt_xdsw = np.apply_along_axis(axis=1,arr=abs(Nt_xdsw),func1d=np.nanstd)\n",
    "st_err_Nt_xdsw = std_Tprofw/sqrt(len(abs(Nt_xdsw).num))\n",
    "depthsw = Nt_xdsw.depths.values"
   ]
  },
  {
   "cell_type": "code",
   "execution_count": 58,
   "metadata": {},
   "outputs": [
    {
     "data": {
      "text/plain": [
       "(0, 9)"
      ]
     },
     "execution_count": 58,
     "metadata": {},
     "output_type": "execute_result"
    },
    {
     "data": {
      "image/png": "[encoded data removed]",
      "text/plain": [
       "<Figure size 720x864 with 1 Axes>"
      ]
     },
     "metadata": {},
     "output_type": "display_data"
    }
   ],
   "source": [
    "#West \n",
    "fig, ax = plt.subplots(figsize=(10,12))\n",
    "ax.plot(mean_Nt_xdsw, -depthsw, '-')\n",
    "ax.fill_betweenx(-depthsw,mean_Nt_xdsw - std_Nt_xdsw, mean_Nt_xdsw + std_Nt_xdsw, alpha=0.4)\n",
    "#ax.hlines(-mean_mlde, colors='blue')#, xmin=3, xmax=10\n",
    "#ax.fill_between(ye,-mean_mlde - std_mlde, -mean_mlde + std_mlde, alpha=0.4, color='blue')\n",
    "#ax.hlines(-mde, colors='green') #, xmin=3, xmax=10\n",
    "\n",
    "#plt.legend(('Mean_Temp', 'Std_Temp', 'Mean_mld','Std_mld','Seal_max'),\n",
    "#           shadow=True, loc=(0.68, 0.15), handlelength=1.5, fontsize=18)\n",
    "plt.xticks(fontsize=18, color='k')\n",
    "plt.yticks(fontsize=18, color='k')\n",
    "plt.xlabel('Nt [1/s-2] * 1e5',fontsize=18, color='black')\n",
    "plt.ylabel('Depth [m]',fontsize=18, color='black')\n",
    "plt.title('Mean +/- std Summer West Dives (n='+ str(ne)+')',fontsize=20,)\n",
    "plt.ylim(-200,0)\n",
    "plt.xlim(0,9)\n",
    "#plt.text(8.5,-39,str(mean_mlde)+' [m]',{'color': 'black', 'fontsize': 18})\n",
    "#plt.text(8.5,-55,str(mde)+' [m]',{'color': 'black', 'fontsize': 18})\n",
    "\n",
    "#savefig('C:/Users/Sean Evans/Documents/2020/MSc/Computing/MSc/Plots & Dive Tables/All seals/Exploratory analysis/Tile mapping/Summer/New therm threshold (0.25)/East_Summer_mld_.png')"
   ]
  },
  {
   "cell_type": "code",
   "execution_count": 125,
   "metadata": {},
   "outputs": [
    {
     "data": {
      "text/plain": [
       "<xarray.DataArray (depths: 200, month: 4)>\n",
       "array([[6.612949, 6.536335, 7.084565, 5.772582],\n",
       "       [6.609768, 6.535865, 7.087341, 5.750221],\n",
       "       [6.605251, 6.53988 , 7.107551, 5.757271],\n",
       "       ...,\n",
       "       [     nan,      nan,      nan,      nan],\n",
       "       [     nan,      nan,      nan,      nan],\n",
       "       [     nan,      nan,      nan,      nan]])\n",
       "Coordinates:\n",
       "  * depths   (depths) float64 1.0 2.0 3.0 4.0 5.0 6.0 7.0 8.0 9.0 10.0 11.0 ...\n",
       "  * month    (month) int64 1 2 3 12"
      ]
     },
     "execution_count": 125,
     "metadata": {},
     "output_type": "execute_result"
    }
   ],
   "source": [
    "flr_gridded_xds.groupby('Time.month').mean(dim='Time')"
   ]
  },
  {
   "cell_type": "code",
   "execution_count": null,
   "metadata": {},
   "outputs": [],
   "source": []
  }
 ],
 "metadata": {
  "kernelspec": {
   "display_name": "'Python Interactive'",
   "language": "python",
   "name": "00597d94-5ce2-402c-a817-1411516b07cc"
  },
  "language_info": {
   "codemirror_mode": {
    "name": "ipython",
    "version": 3
   },
   "file_extension": ".py",
   "mimetype": "text/x-python",
   "name": "python",
   "nbconvert_exporter": "python",
   "pygments_lexer": "ipython3",
   "version": "3.6.5"
  }
 },
 "nbformat": 4,
 "nbformat_minor": 2
}
